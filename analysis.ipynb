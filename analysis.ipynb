{
 "cells": [
  {
   "cell_type": "code",
   "execution_count": null,
   "id": "60e6f5a6-4546-47af-9272-becb362fd9e3",
   "metadata": {},
   "outputs": [],
   "source": [
    "import pandas as pd\n",
    "import requests\n",
    "import io \n",
    "from plotnine import *"
   ]
  },
  {
   "cell_type": "code",
   "execution_count": null,
   "id": "602db07d-ae7d-4d75-ac51-b58445491268",
   "metadata": {},
   "outputs": [],
   "source": [
    "data = pd.read_csv(\"regional-global-daily-latest.csv\", skiprows=1)"
   ]
  },
  {
   "cell_type": "code",
   "execution_count": null,
   "id": "be5241fd-b1e7-41b9-8b9c-41c3e1b0681e",
   "metadata": {},
   "outputs": [],
   "source": [
    "top200 = data.convert_dtypes()"
   ]
  },
  {
   "cell_type": "code",
   "execution_count": null,
   "id": "7c44f845-eb45-4984-b8d0-2a072e66d3b9",
   "metadata": {},
   "outputs": [],
   "source": [
    "data.info()"
   ]
  },
  {
   "cell_type": "code",
   "execution_count": null,
   "id": "07c11afa-4fa3-4739-8de3-a8d066caf463",
   "metadata": {},
   "outputs": [],
   "source": [
    "ggplot(data, aes(\"Position\", \"Streams\")) + geom_point()"
   ]
  }
 ],
 "metadata": {
  "kernelspec": {
   "display_name": "Python 3 (ipykernel)",
   "language": "python",
   "name": "python3"
  },
  "language_info": {
   "codemirror_mode": {
    "name": "ipython",
    "version": 3
   },
   "file_extension": ".py",
   "mimetype": "text/x-python",
   "name": "python",
   "nbconvert_exporter": "python",
   "pygments_lexer": "ipython3",
   "version": "3.7.10"
  }
 },
 "nbformat": 4,
 "nbformat_minor": 5
}
